{
 "cells": [
  {
   "cell_type": "markdown",
   "metadata": {},
   "source": [
    "**CODE TO DIRTY DATASET**"
   ]
  },
  {
   "cell_type": "code",
   "execution_count": 7,
   "metadata": {},
   "outputs": [],
   "source": [
    "import pandas as pd\n",
    "import numpy as np\n",
    "\n",
    "df = pd.read_csv('DryBeanDataset/Beans.csv')\n",
    "\n",
    "cols = ['Solidity', 'roundness']\n",
    "for col in cols:\n",
    "    indices = np.random.choice(df.index, int(0.5 * len(df)), replace=False)  # Add Extra Decimal to data for 'Solidity' and 'roundness' 50% of the time\n",
    "    for i in indices:\n",
    "        value = str(df.at[i, col])\n",
    "        pos = np.random.randint(1, len(value))  # Random position for extra decimal\n",
    "        new_value = value[:pos] + '.' + value[pos:]\n",
    "        df.at[i, col] = new_value\n",
    "\n",
    "# Modify 'Class' column 50% of the time by coverting to lowercase and/or add an extra letter\n",
    "indices = np.random.choice(df.index, int(0.5 * len(df)), replace=False)\n",
    "for i in indices:\n",
    "    choice = np.random.choice([0, 1, 2])\n",
    "    if choice == 0:\n",
    "        df.at[i, 'Class'] = df.at[i, 'Class'].lower()\n",
    "    elif choice == 1:\n",
    "        df.at[i, 'Class'] = df.at[i, 'Class'] + np.random.choice(list('ABCDEFGHIJKLMNOPQRSTUVWXYZ'))\n",
    "\n",
    "# Randomly add commas to 'ConvexArea'\n",
    "indices = np.random.choice(df.index, int(0.5 * len(df)), replace=False)\n",
    "for i in indices:\n",
    "    value = str(df.at[i, 'ConvexArea'])\n",
    "    if len(value) > 3:\n",
    "        new_value = value[:-3] + ',' + value[-3:]\n",
    "        df.at[i, 'ConvexArea'] = new_value\n",
    "\n",
    "half_len = len(df) // 2\n",
    "df.iloc[:half_len].to_csv('first_half.csv', index=False)\n",
    "df.iloc[half_len:].to_csv('second_half.csv', index=False)"
   ]
  },
  {
   "cell_type": "markdown",
   "metadata": {},
   "source": [
    "**SOLUTION TO CLEAN DATASET**"
   ]
  },
  {
   "cell_type": "code",
   "execution_count": null,
   "metadata": {},
   "outputs": [],
   "source": [
    "df1 = pd.read_csv('first_half.csv')\n",
    "df2 = pd.read_csv('second_half.csv')\n",
    "\n",
    "df = pd.concat([df1, df2], ignore_index=True)\n",
    "\n",
    "cols = ['Solidity', 'roundness']\n",
    "for col in cols:\n",
    "    df[col] = df[col].astype(str).str.replace(r'(\\.\\d*)\\.', r'\\1', regex=True).astype(float)\n",
    "\n",
    "df['Class'] = df['Class'].str.upper()\n",
    "allowed_letters = set(\"SEKER\")\n",
    "df['Class'] = df['Class'].apply(lambda x: ''.join(filter(lambda y: y in allowed_letters, x)))\n",
    "\n",
    "df['ConvexArea'] = df['ConvexArea'].astype(str).str.replace(',', '').astype(int)\n",
    "\n",
    "df.to_csv('cleaned_dataset.csv', index=False)"
   ]
  }
 ],
 "metadata": {
  "kernelspec": {
   "display_name": "base",
   "language": "python",
   "name": "python3"
  },
  "language_info": {
   "codemirror_mode": {
    "name": "ipython",
    "version": 3
   },
   "file_extension": ".py",
   "mimetype": "text/x-python",
   "name": "python",
   "nbconvert_exporter": "python",
   "pygments_lexer": "ipython3",
   "version": "3.11.5"
  }
 },
 "nbformat": 4,
 "nbformat_minor": 2
}
