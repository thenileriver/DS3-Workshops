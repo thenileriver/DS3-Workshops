{
 "cells": [
  {
   "cell_type": "code",
   "execution_count": null,
   "metadata": {},
   "outputs": [],
   "source": [
    "import pandas as pd\n",
    "import numpy as np"
   ]
  },
  {
   "cell_type": "code",
   "execution_count": null,
   "metadata": {},
   "outputs": [],
   "source": [
    "df = pd.read_csv('DataHacks_Workshop.csv', skiprows=18)\n",
    "\n",
    "empty_columns = df.isna().any()\n",
    "empty_column_names = empty_columns[empty_columns].index.tolist()\n",
    "print(\"Columns with empty values:\", empty_column_names)\n",
    "\n",
    "df = df.drop(['flags', 'is_type', 'specelt_no', 'specimen_sex', 'comments', 'difference', 'accepted_attr', 'plant_organ',\n",
    "              'plant_organ2', 'abund_value', 'abund_unit', 'latlng_basis', 'geogscale', 'tectonic_setting', 'geology_comments', \n",
    "              'museum', 'collection_coverage', 'collection_size', 'rock_censused', 'collectors', 'collection_dates',\n",
    "              'collection_comments', 'taxonomy_comments'], axis=1)\n",
    "working_df = df[['phylum', 'class', 'order', 'family', 'genus']]\n",
    "\n",
    "working_df = working_df.dropna()\n",
    "working_df.replace('NO_ORDER_SPECIFIED', np.nan, inplace=True)\n",
    "working_df = working_df.dropna()\n",
    "\n",
    "working_df"
   ]
  },
  {
   "cell_type": "code",
   "execution_count": null,
   "metadata": {},
   "outputs": [],
   "source": [
    "from sklearn.model_selection import train_test_split\n",
    "from sklearn.ensemble import RandomForestClassifier\n",
    "from sklearn.preprocessing import LabelEncoder\n",
    "from sklearn.metrics import accuracy_score\n",
    "\n",
    "for column in working_df.columns:\n",
    "    working_df[column] = working_df[column].astype(str)\n",
    "\n",
    "encoders = {column: LabelEncoder() for column in working_df.columns}\n",
    "\n",
    "for column, encoder in encoders.items():\n",
    "    working_df[column] = encoder.fit_transform(working_df[column])\n",
    "\n",
    "X = working_df.drop('class', axis=1)\n",
    "y = working_df['class']\n",
    "\n",
    "X_train, X_test, y_train, y_test = train_test_split(X, y, test_size=0.2, random_state=42)\n",
    "y_train"
   ]
  },
  {
   "cell_type": "code",
   "execution_count": null,
   "metadata": {},
   "outputs": [],
   "source": [
    "from sklearn.model_selection import train_test_split\n",
    "from sklearn.ensemble import RandomForestClassifier\n",
    "from sklearn.preprocessing import LabelEncoder\n",
    "from sklearn.metrics import accuracy_score\n",
    "\n",
    "for column in working_df.columns:\n",
    "    working_df[column] = working_df[column].astype(str)\n",
    "\n",
    "encoders = {column: LabelEncoder() for column in working_df.columns}\n",
    "\n",
    "for column, encoder in encoders.items():\n",
    "    working_df[column] = encoder.fit_transform(working_df[column])\n",
    "\n",
    "X = working_df.drop('class', axis=1)\n",
    "y = working_df['class']\n",
    "\n",
    "X_train_val, X_test, y_train_val, y_test = train_test_split(X, y, test_size=0.2, random_state=42)\n",
    "\n",
    "# Split the training+validation set into training and validation sets\n",
    "X_train, X_val, y_train, y_val = train_test_split(X_train_val, y_train_val, test_size=0.25, random_state=42)  # 0.25 x 0.8 = 0.2\n",
    "\n",
    "# Train your model\n",
    "clf = RandomForestClassifier(n_estimators=100, random_state=42)\n",
    "clf.fit(X_train, y_train)\n",
    "\n",
    "# Validate the model\n",
    "y_val_pred = clf.predict(X_val)\n",
    "val_accuracy = accuracy_score(y_val, y_val_pred)\n",
    "print(f\"Validation Accuracy: {val_accuracy:.2f}\")\n",
    "\n",
    "# Finally, test the model\n",
    "y_test_pred = clf.predict(X_test)\n",
    "test_accuracy = accuracy_score(y_test, y_test_pred)\n",
    "print(f\"Test Accuracy: {test_accuracy:.2f}\")\n",
    "\n",
    "y_test, y_test_pred"
   ]
  }
 ],
 "metadata": {
  "language_info": {
   "name": "python"
  }
 },
 "nbformat": 4,
 "nbformat_minor": 2
}
